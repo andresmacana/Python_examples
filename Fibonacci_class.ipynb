{
 "cells": [
  {
   "cell_type": "markdown",
   "metadata": {},
   "source": [
    "# CLASS EXAMPLES WITH PYTHON\n"
   ]
  },
  {
   "cell_type": "markdown",
   "metadata": {},
   "source": [
    "In this code we will create a class that return the Fibonacci series"
   ]
  },
  {
   "cell_type": "markdown",
   "metadata": {},
   "source": [
    "First we need a progression class.\n",
    "*Code taked from:\n",
    "Goodrich, Tamassia & Goldwasser\n",
    "Data Structures & Algorithms in Python (c)2013*\n"
   ]
  },
  {
   "cell_type": "code",
   "execution_count": 9,
   "metadata": {},
   "outputs": [],
   "source": [
    "class Progression:\n",
    "    \n",
    "    def __init__( self, start = 0 ):\n",
    "        #Initialize the first progression \n",
    "        self._current = start\n",
    "\n",
    "    def _progress( self ):\n",
    "        \"\"\"Update self._actual to new value\n",
    "\n",
    "        If current in None, the progression ends.\n",
    "        \"\"\"\n",
    "    \n",
    "        self._current += 1\n",
    "\n",
    "    def __next__( self ):\n",
    "        #Return the next element or send StopIteration message.\n",
    "        if self._current is None:  \n",
    "            raise StopIteration()\n",
    "        else:\n",
    "            answer = self._current   #save the actual value\n",
    "            self._progress()          #prepare the next value\n",
    "            return answer          #return the answer\n",
    "\n",
    "    def __iter__( self ):\n",
    "        #For convention, an iterator must return itself like iterator.\n",
    "        return self\n",
    "\n",
    "    def print_progression( self, n ):\n",
    "        #Print the next n values.\n",
    "        print( ' '.join( str( next( self ) ) for j in range( n ) ) )\n",
    "        \n"
   ]
  },
  {
   "cell_type": "code",
   "execution_count": 10,
   "metadata": {},
   "outputs": [
    {
     "name": "stdout",
     "output_type": "stream",
     "text": [
      "11 12 13 14 15 16 17 18 19 20\n"
     ]
    }
   ],
   "source": [
    "Progression(11).print_progression(10)"
   ]
  },
  {
   "cell_type": "markdown",
   "metadata": {},
   "source": [
    "It works. Now we will create a Fibonacci class"
   ]
  },
  {
   "cell_type": "markdown",
   "metadata": {},
   "source": [
    "**The Fibonacci class will use a Progression class. This is inheritance.**"
   ]
  },
  {
   "cell_type": "code",
   "execution_count": 11,
   "metadata": {},
   "outputs": [],
   "source": [
    "class Fibo(Progression):\n",
    "    def __init__(self,first=0,second=1):\n",
    "        super().__init__(first) #call rhe progression class\n",
    "        self._prev=second-first \n",
    "\n",
    "    def _progress(self):\n",
    "        \"\"\"update current value by taking sum of previous two\"\"\"\n",
    "        self._prev, self._current = self._current, self._prev + self._current\n",
    "\n"
   ]
  },
  {
   "cell_type": "code",
   "execution_count": 13,
   "metadata": {},
   "outputs": [
    {
     "name": "stdout",
     "output_type": "stream",
     "text": [
      "0 1 1 2 3 5 8 13 21 34 55 89 144 233 377 610 987 1597 2584 4181\n"
     ]
    }
   ],
   "source": [
    "Fibo().print_progression(20)"
   ]
  },
  {
   "cell_type": "code",
   "execution_count": null,
   "metadata": {},
   "outputs": [],
   "source": []
  }
 ],
 "metadata": {
  "kernelspec": {
   "display_name": "Python 3",
   "language": "python",
   "name": "python3"
  },
  "language_info": {
   "codemirror_mode": {
    "name": "ipython",
    "version": 3
   },
   "file_extension": ".py",
   "mimetype": "text/x-python",
   "name": "python",
   "nbconvert_exporter": "python",
   "pygments_lexer": "ipython3",
   "version": "3.6.8"
  }
 },
 "nbformat": 4,
 "nbformat_minor": 2
}
