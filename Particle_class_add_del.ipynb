{
 "cells": [
  {
   "cell_type": "markdown",
   "metadata": {},
   "source": [
    "# A simple class example \n"
   ]
  },
  {
   "cell_type": "markdown",
   "metadata": {},
   "source": [
    "We will create a particle class. Yes it's a physics thing. "
   ]
  },
  {
   "cell_type": "code",
   "execution_count": 3,
   "metadata": {},
   "outputs": [],
   "source": [
    "class Particle:\n",
    "    \"\"\" the constructor\"\"\"\n",
    "    particle_population = 0\n",
    "    def __init__(self,name,mass):\n",
    "        self.name = name\n",
    "        self.mass = mass\n",
    "        print ('{0}  has benn born'.format(self.name))\n",
    "        print ('have {0}'.format(self.mass),'a mass MeV/c^2')\n",
    "        Particle.particle_population+= 1\n",
    "\n",
    "    def __str__(self):\n",
    "        return ' {0} have {1} MeV/c^2 mass.'.format(self.name,self.mass)\n",
    "\n",
    "    def __del__(self):\n",
    "        print ('{0} is deleted:'.format(self.name))\n",
    "        Particle.particle_population -= 1\n",
    "    def totalPop():\n",
    "        print ('there are {} particles in this code.'.format(Particle.particle_population))\n",
    "        #se llama desde shell con: Person.totalPop()"
   ]
  },
  {
   "cell_type": "markdown",
   "metadata": {},
   "source": [
    "Now, We can add and delete particles:"
   ]
  },
  {
   "cell_type": "code",
   "execution_count": 4,
   "metadata": {},
   "outputs": [
    {
     "name": "stdout",
     "output_type": "stream",
     "text": [
      "up  has benn born\n",
      "have 2.2 a mass MeV/c^2\n",
      "1\n"
     ]
    }
   ],
   "source": [
    "p1 = Particle(\"up\",2.2)\n",
    "print (Particle.particle_population)\n"
   ]
  },
  {
   "cell_type": "code",
   "execution_count": 5,
   "metadata": {},
   "outputs": [
    {
     "name": "stdout",
     "output_type": "stream",
     "text": [
      "down  has benn born\n",
      "have 4.6 a mass MeV/c^2\n",
      "2\n"
     ]
    }
   ],
   "source": [
    "p2 = Particle(\"down\",4.6)\n",
    "print (Particle.particle_population)"
   ]
  },
  {
   "cell_type": "code",
   "execution_count": 6,
   "metadata": {},
   "outputs": [
    {
     "name": "stdout",
     "output_type": "stream",
     "text": [
      " up have 2.2 MeV/c^2 mass.\n"
     ]
    }
   ],
   "source": [
    "print(p1)"
   ]
  },
  {
   "cell_type": "code",
   "execution_count": 7,
   "metadata": {},
   "outputs": [
    {
     "name": "stdout",
     "output_type": "stream",
     "text": [
      " down have 4.6 MeV/c^2 mass.\n"
     ]
    }
   ],
   "source": [
    "print(p2)"
   ]
  },
  {
   "cell_type": "code",
   "execution_count": 8,
   "metadata": {},
   "outputs": [
    {
     "name": "stdout",
     "output_type": "stream",
     "text": [
      "2\n"
     ]
    }
   ],
   "source": [
    "print(Particle.particle_population)"
   ]
  },
  {
   "cell_type": "code",
   "execution_count": 9,
   "metadata": {},
   "outputs": [
    {
     "name": "stdout",
     "output_type": "stream",
     "text": [
      "charm  has benn born\n",
      "have 1280 a mass MeV/c^2\n",
      "strange  has benn born\n",
      "have 196 a mass MeV/c^2\n",
      "top  has benn born\n",
      "have 173.1 a mass MeV/c^2\n",
      "bottom  has benn born\n",
      "have 4.18 a mass MeV/c^2\n"
     ]
    }
   ],
   "source": [
    "p3 = Particle(\"charm\",1280)\n",
    "p4 = Particle(\"strange\",196)\n",
    "p5 = Particle(\"top\",173.100)\n",
    "p6 = Particle(\"bottom\",4.180)"
   ]
  },
  {
   "cell_type": "code",
   "execution_count": 10,
   "metadata": {},
   "outputs": [
    {
     "name": "stdout",
     "output_type": "stream",
     "text": [
      "6\n"
     ]
    }
   ],
   "source": [
    "print(Particle.particle_population)"
   ]
  },
  {
   "cell_type": "code",
   "execution_count": 11,
   "metadata": {},
   "outputs": [
    {
     "name": "stdout",
     "output_type": "stream",
     "text": [
      "sun  has benn born\n",
      "have 9991280 a mass MeV/c^2\n",
      "7\n"
     ]
    }
   ],
   "source": [
    "p7 = Particle(\"sun\",9991280)\n",
    "print(Particle.particle_population)"
   ]
  },
  {
   "cell_type": "code",
   "execution_count": 12,
   "metadata": {},
   "outputs": [
    {
     "name": "stdout",
     "output_type": "stream",
     "text": [
      " sun have 9991280 MeV/c^2 mass.\n"
     ]
    }
   ],
   "source": [
    "print(p7)\n"
   ]
  },
  {
   "cell_type": "code",
   "execution_count": 13,
   "metadata": {},
   "outputs": [
    {
     "name": "stdout",
     "output_type": "stream",
     "text": [
      "sun is deleted:\n"
     ]
    }
   ],
   "source": [
    "del(p7)"
   ]
  },
  {
   "cell_type": "code",
   "execution_count": null,
   "metadata": {},
   "outputs": [],
   "source": []
  }
 ],
 "metadata": {
  "kernelspec": {
   "display_name": "Python 3",
   "language": "python",
   "name": "python3"
  },
  "language_info": {
   "codemirror_mode": {
    "name": "ipython",
    "version": 3
   },
   "file_extension": ".py",
   "mimetype": "text/x-python",
   "name": "python",
   "nbconvert_exporter": "python",
   "pygments_lexer": "ipython3",
   "version": "3.6.8"
  }
 },
 "nbformat": 4,
 "nbformat_minor": 2
}
